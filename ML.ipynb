{
  "nbformat": 4,
  "nbformat_minor": 0,
  "metadata": {
    "colab": {
      "provenance": []
    },
    "kernelspec": {
      "name": "python3",
      "display_name": "Python 3"
    },
    "language_info": {
      "name": "python"
    }
  },
  "cells": [
    {
      "cell_type": "markdown",
      "source": [
        "1. What is a Parameter?\n",
        "A parameter in Machine Learning (ML) refers to a variable within a model that is learned from training data. Examples include the weights in a linear regression model or the connection strengths in a neural network.\n",
        "\n",
        "2. What is Correlation?\n",
        "Correlation measures the relationship between two variables, showing how one variable changes in relation to another. It is expressed using a correlation coefficient (r) ranging from -1 to 1.\n",
        "\n",
        "3. What Does Negative Correlation Mean?\n",
        "A negative correlation means that as one variable increases, the other decreases. For example, in a dataset of car mileage, fuel efficiency and fuel consumption are negatively correlated.\n",
        "\n",
        "4. Define Machine Learning.\n",
        "Machine Learning is a branch of Artificial Intelligence that enables computers to learn patterns from data and make predictions or decisions without being explicitly programmed.\n",
        "\n",
        "5. What Are the Main Components in Machine Learning?\n",
        "Data (Training & Testing)\n",
        "\n",
        "Model (Algorithm used)\n",
        "\n",
        "Loss Function (Measures model performance)\n",
        "\n",
        "Optimizer (Improves model performance)\n",
        "\n",
        "Evaluation Metrics (Measures accuracy)\n",
        "\n",
        "6. How Does Loss Value Help in Determining Whether the Model is Good or Not?\n",
        "The loss function calculates the difference between predicted and actual values. A lower loss means a better-performing model.\n",
        "\n",
        "7. What Are Continuous and Categorical Variables?\n",
        "Continuous variables: Numeric values with infinite possible values (e.g., height, temperature).\n",
        "\n",
        "Categorical variables: Discrete groups or categories (e.g., gender, country).\n",
        "\n",
        "8. How Do We Handle Categorical Variables in Machine Learning? What Are Common Techniques?\n",
        "Label Encoding (Assigns numbers to categories)\n",
        "\n",
        "One-Hot Encoding (Creates binary columns for each category)\n",
        "\n",
        "Ordinal Encoding (Assigns ranks to ordered categories)\n",
        "\n",
        "9. What Do You Mean by Training and Testing a Dataset?\n",
        "Training Set: Data used to train the model.\n",
        "\n",
        "Test Set: Data used to evaluate the model’s performance.\n",
        "\n",
        "10. What is sklearn.preprocessing?\n",
        "A module in Scikit-learn that provides functions for data preprocessing, including scaling, encoding, and transformation.\n",
        "\n",
        "11. What is a Test Set?\n",
        "A dataset reserved for evaluating the model's performance after training."
      ],
      "metadata": {
        "id": "Buns96_kG_1m"
      }
    },
    {
      "cell_type": "code",
      "source": [
        "## Q-12 How Do We Split Data for Model Fitting (Training and Testing) in Python?\n",
        "from sklearn.model_selection import train_test_split\n",
        "X_train, X_test, y_train, y_test = train_test_split(X, y, test_size=0.2, random_state=42)\n"
      ],
      "metadata": {
        "id": "MWXtJrtkHiOQ"
      },
      "execution_count": null,
      "outputs": []
    },
    {
      "cell_type": "markdown",
      "source": [
        "13. How Do You Approach a Machine Learning Problem?\n",
        "Understand the problem\n",
        "\n",
        "Collect and preprocess data\n",
        "\n",
        "Perform Exploratory Data Analysis (EDA)\n",
        "\n",
        "Choose a model\n",
        "\n",
        "Train the model\n",
        "\n",
        "Evaluate performance\n",
        "\n",
        "Fine-tune & deploy the model\n",
        "\n",
        "14. Why Do We Have to Perform EDA Before Fitting a Model to the Data?\n",
        "Identifies missing values\n",
        "\n",
        "Detects outliers\n",
        "\n",
        "Understands feature distributions\n",
        "\n",
        "Finds correlations between variables"
      ],
      "metadata": {
        "id": "aDCRk04KHqyL"
      }
    },
    {
      "cell_type": "code",
      "source": [
        "## 15 How Can You Find Correlation Between Variables in Python?\n",
        "import pandas as pd\n",
        "df.corr()  # Returns correlation matrix\n"
      ],
      "metadata": {
        "id": "XwwXndL8HssP"
      },
      "execution_count": null,
      "outputs": []
    },
    {
      "cell_type": "markdown",
      "source": [
        "16. What is Causation?\n",
        "Causation means that a change in one variable directly causes a change in another.\n",
        "\n",
        "17. Difference Between Correlation and Causation (Example)\n",
        "Correlation: Ice cream sales and drowning incidents are correlated, but eating ice cream doesn't cause drowning.\n",
        "\n",
        "Causation: A higher dose of a medicine causing a decrease in fever is causation.\n",
        "\n",
        "18. What is an Optimizer?\n",
        "An optimizer adjusts model parameters (weights) to minimize the loss function.\n",
        "\n",
        "19. Types of Optimizers & Examples\n",
        "Gradient Descent (Updates weights using derivatives)\n",
        "\n",
        "Stochastic Gradient Descent (SGD) (Updates weights with random samples)\n",
        "\n",
        "Adam Optimizer (Combines momentum and adaptive learning rate)\n",
        "\n",
        "20. What is sklearn.linear_model?\n",
        "A module in Scikit-learn that provides various linear models, like Linear Regression, Ridge, and Lasso Regression."
      ],
      "metadata": {
        "id": "i3o_ksaJH7Vw"
      }
    },
    {
      "cell_type": "code",
      "source": [
        "##  21. What Does model.fit() Do? What Arguments Must Be Given?\n",
        "## Trains the model using training data.\n",
        "model.fit(X_train, y_train)\n"
      ],
      "metadata": {
        "id": "yyaOOZVkIE1z"
      },
      "execution_count": null,
      "outputs": []
    },
    {
      "cell_type": "code",
      "source": [
        "##  22. What Does model.predict() Do? What Arguments Must Be Given?\n",
        "## Predicts output based on input data.\n",
        "y_pred = model.predict(X_test)\n"
      ],
      "metadata": {
        "id": "7RV0blGqIRMr"
      },
      "execution_count": null,
      "outputs": []
    },
    {
      "cell_type": "markdown",
      "source": [
        "23. What is Feature Scaling? How Does It Help in Machine Learning?\n",
        "Feature scaling standardizes or normalizes features for better model performance.\n",
        "\n",
        "Helps algorithms like Gradient Descent and KNN by keeping all features on the same scale."
      ],
      "metadata": {
        "id": "hzk8nN1cIkzn"
      }
    },
    {
      "cell_type": "code",
      "source": [
        "## 24. How Do We Perform Scaling in Python?\n",
        "from sklearn.preprocessing import StandardScaler\n",
        "scaler = StandardScaler()\n",
        "X_scaled = scaler.fit_transform(X)\n"
      ],
      "metadata": {
        "id": "qDlHLHz2JBwL"
      },
      "execution_count": null,
      "outputs": []
    },
    {
      "cell_type": "markdown",
      "source": [
        "25. Explain Data Encoding?\n",
        "Data encoding converts categorical data into a numerical format for ML models. Common methods:\n",
        "\n",
        "Label Encoding\n",
        "\n",
        "One-Hot Encoding\n",
        "\n",
        "Ordinal Encoding"
      ],
      "metadata": {
        "id": "6Bdau4m3JI9D"
      }
    }
  ]
}